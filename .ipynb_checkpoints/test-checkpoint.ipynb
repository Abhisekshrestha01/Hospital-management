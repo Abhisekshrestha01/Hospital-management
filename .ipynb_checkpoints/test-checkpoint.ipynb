{
 "cells": [
  {
   "cell_type": "code",
   "execution_count": 5,
   "metadata": {
    "collapsed": true
   },
   "outputs": [],
   "source": [
    "def is_occupied(bn):\n",
    "    df = pd.read_csv(\"patients1.csv\")\n",
    "    res=list(zip(df[\"BedNum\"].values, df[\"Status\"].values))\n",
    "    res=res[::-1]\n",
    "    occupied=False\n",
    "    for bed,status in res:\n",
    "        if bn==bed and (status==0 or status==1):\n",
    "            occupied=True\n",
    "            break\n",
    "    return occupied"
   ]
  },
  {
   "cell_type": "code",
   "execution_count": 6,
   "metadata": {},
   "outputs": [
    {
     "data": {
      "text/html": [
       "<div>\n",
       "<style>\n",
       "    .dataframe thead tr:only-child th {\n",
       "        text-align: right;\n",
       "    }\n",
       "\n",
       "    .dataframe thead th {\n",
       "        text-align: left;\n",
       "    }\n",
       "\n",
       "    .dataframe tbody tr th {\n",
       "        vertical-align: top;\n",
       "    }\n",
       "</style>\n",
       "<table border=\"1\" class=\"dataframe\">\n",
       "  <thead>\n",
       "    <tr style=\"text-align: right;\">\n",
       "      <th></th>\n",
       "      <th>PatientID</th>\n",
       "      <th>Name</th>\n",
       "      <th>Age</th>\n",
       "      <th>AdmissionDate</th>\n",
       "      <th>BedNum</th>\n",
       "      <th>Status</th>\n",
       "      <th>DischargeDate</th>\n",
       "    </tr>\n",
       "  </thead>\n",
       "  <tbody>\n",
       "    <tr>\n",
       "      <th>0</th>\n",
       "      <td>2001</td>\n",
       "      <td>p1</td>\n",
       "      <td>10</td>\n",
       "      <td>2017-11-29</td>\n",
       "      <td>101</td>\n",
       "      <td>1</td>\n",
       "      <td>NaN</td>\n",
       "    </tr>\n",
       "    <tr>\n",
       "      <th>1</th>\n",
       "      <td>2002</td>\n",
       "      <td>p2</td>\n",
       "      <td>20</td>\n",
       "      <td>2017-11-29</td>\n",
       "      <td>102</td>\n",
       "      <td>2</td>\n",
       "      <td>2017-12-03</td>\n",
       "    </tr>\n",
       "    <tr>\n",
       "      <th>2</th>\n",
       "      <td>2003</td>\n",
       "      <td>p3</td>\n",
       "      <td>30</td>\n",
       "      <td>2017-11-29</td>\n",
       "      <td>103</td>\n",
       "      <td>2</td>\n",
       "      <td>2017-11-30</td>\n",
       "    </tr>\n",
       "    <tr>\n",
       "      <th>3</th>\n",
       "      <td>2004</td>\n",
       "      <td>p4</td>\n",
       "      <td>40</td>\n",
       "      <td>2017-11-29</td>\n",
       "      <td>104</td>\n",
       "      <td>0</td>\n",
       "      <td>NaN</td>\n",
       "    </tr>\n",
       "    <tr>\n",
       "      <th>4</th>\n",
       "      <td>2005</td>\n",
       "      <td>p5</td>\n",
       "      <td>50</td>\n",
       "      <td>2017-11-29</td>\n",
       "      <td>105</td>\n",
       "      <td>2</td>\n",
       "      <td>2017-12-01</td>\n",
       "    </tr>\n",
       "    <tr>\n",
       "      <th>5</th>\n",
       "      <td>2006</td>\n",
       "      <td>patient3</td>\n",
       "      <td>17</td>\n",
       "      <td>2017-12-01</td>\n",
       "      <td>106</td>\n",
       "      <td>2</td>\n",
       "      <td>2017-12-01</td>\n",
       "    </tr>\n",
       "    <tr>\n",
       "      <th>6</th>\n",
       "      <td>2007</td>\n",
       "      <td>test</td>\n",
       "      <td>23</td>\n",
       "      <td>2017-12-01</td>\n",
       "      <td>107</td>\n",
       "      <td>0</td>\n",
       "      <td>NaN</td>\n",
       "    </tr>\n",
       "    <tr>\n",
       "      <th>7</th>\n",
       "      <td>2008</td>\n",
       "      <td>hari</td>\n",
       "      <td>34</td>\n",
       "      <td>2017-12-01</td>\n",
       "      <td>108</td>\n",
       "      <td>2</td>\n",
       "      <td>2017-12-03</td>\n",
       "    </tr>\n",
       "    <tr>\n",
       "      <th>8</th>\n",
       "      <td>2009</td>\n",
       "      <td>test2</td>\n",
       "      <td>34</td>\n",
       "      <td>2017-12-01</td>\n",
       "      <td>102</td>\n",
       "      <td>0</td>\n",
       "      <td>NaN</td>\n",
       "    </tr>\n",
       "    <tr>\n",
       "      <th>9</th>\n",
       "      <td>2010</td>\n",
       "      <td>krishna</td>\n",
       "      <td>34</td>\n",
       "      <td>2017-12-03</td>\n",
       "      <td>110</td>\n",
       "      <td>0</td>\n",
       "      <td>NaN</td>\n",
       "    </tr>\n",
       "  </tbody>\n",
       "</table>\n",
       "</div>"
      ],
      "text/plain": [
       "   PatientID      Name  Age AdmissionDate  BedNum  Status DischargeDate\n",
       "0       2001        p1   10    2017-11-29     101       1           NaN\n",
       "1       2002        p2   20    2017-11-29     102       2    2017-12-03\n",
       "2       2003        p3   30    2017-11-29     103       2    2017-11-30\n",
       "3       2004        p4   40    2017-11-29     104       0           NaN\n",
       "4       2005        p5   50    2017-11-29     105       2    2017-12-01\n",
       "5       2006  patient3   17    2017-12-01     106       2    2017-12-01\n",
       "6       2007      test   23    2017-12-01     107       0           NaN\n",
       "7       2008      hari   34    2017-12-01     108       2    2017-12-03\n",
       "8       2009     test2   34    2017-12-01     102       0           NaN\n",
       "9       2010   krishna   34    2017-12-03     110       0           NaN"
      ]
     },
     "execution_count": 6,
     "metadata": {},
     "output_type": "execute_result"
    }
   ],
   "source": [
    "import pandas as pd\n",
    "df = pd.read_csv(\"patients1.csv\")\n",
    "df"
   ]
  },
  {
   "cell_type": "code",
   "execution_count": 8,
   "metadata": {},
   "outputs": [
    {
     "data": {
      "text/plain": [
       "False"
      ]
     },
     "execution_count": 8,
     "metadata": {},
     "output_type": "execute_result"
    }
   ],
   "source": [
    "is_occupied(103)"
   ]
  },
  {
   "cell_type": "code",
   "execution_count": null,
   "metadata": {
    "collapsed": true
   },
   "outputs": [],
   "source": []
  }
 ],
 "metadata": {
  "kernelspec": {
   "display_name": "Python 3",
   "language": "python",
   "name": "python3"
  },
  "language_info": {
   "codemirror_mode": {
    "name": "ipython",
    "version": 3
   },
   "file_extension": ".py",
   "mimetype": "text/x-python",
   "name": "python",
   "nbconvert_exporter": "python",
   "pygments_lexer": "ipython3",
   "version": "3.6.2"
  }
 },
 "nbformat": 4,
 "nbformat_minor": 1
}
